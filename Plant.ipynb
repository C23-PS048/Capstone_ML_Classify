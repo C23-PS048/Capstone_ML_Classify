{
  "cells": [
    {
      "cell_type": "code",
      "execution_count": null,
      "metadata": {
        "id": "B-uDTINTTncO"
      },
      "outputs": [],
      "source": [
        "import os\n",
        "import zipfile\n",
        "import random\n",
        "import shutil\n",
        "import tensorflow as tf\n",
        "from tensorflow.keras.applications.mobilenet_v2 import preprocess_input\n",
        "from tensorflow.keras.preprocessing.image import ImageDataGenerator\n",
        "from tensorflow.keras.models import Sequential\n",
        "from tensorflow.keras.layers import Conv2D, Dense, Flatten, GlobalAveragePooling2D, MaxPooling2D, Dropout\n",
        "from tensorflow.keras.callbacks import ModelCheckpoint, EarlyStopping, ReduceLROnPlateau\n",
        "from tensorflow.keras.optimizers import Adam, RMSprop, Nadam\n",
        "from tensorflow.keras import regularizers"
      ]
    },
    {
      "cell_type": "code",
      "execution_count": null,
      "metadata": {
        "id": "g1vzERw3Tncd"
      },
      "outputs": [],
      "source": [
        "image_size = (224, 224)\n",
        "batch_size = 16"
      ]
    },
    {
      "cell_type": "code",
      "execution_count": null,
      "metadata": {
        "colab": {
          "base_uri": "https://localhost:8080/"
        },
        "id": "OFUE4p8DTnce",
        "outputId": "f0b9f3e2-d196-4b2e-e224-442875de50de"
      },
      "outputs": [
        {
          "output_type": "stream",
          "name": "stdout",
          "text": [
            "Downloading data from https://storage.googleapis.com/tensorflow/keras-applications/mobilenet_v2/mobilenet_v2_weights_tf_dim_ordering_tf_kernels_1.0_224_no_top.h5\n",
            "9406464/9406464 [==============================] - 0s 0us/step\n"
          ]
        }
      ],
      "source": [
        "base_model = tf.keras.applications.MobileNetV2(\n",
        "    include_top=False,\n",
        "    weights='imagenet',\n",
        "    input_shape=(image_size[0], image_size[1], 3),\n",
        ")"
      ]
    },
    {
      "cell_type": "code",
      "execution_count": null,
      "metadata": {
        "id": "Xe5khnLWTnce"
      },
      "outputs": [],
      "source": [
        "# Preprocess the input images and apply augmentation\n",
        "train_datagen = ImageDataGenerator(\n",
        "    preprocessing_function=preprocess_input,\n",
        "    rotation_range=20,\n",
        "    width_shift_range=0.2,\n",
        "    height_shift_range=0.2,\n",
        "    zoom_range=0.5,\n",
        "    horizontal_flip=True,\n",
        "    vertical_flip=True,\n",
        "    fill_mode='nearest'\n",
        ")\n",
        "\n",
        "valid_datagen = ImageDataGenerator(\n",
        "    preprocessing_function=preprocess_input,\n",
        "    # rotation_range=20,\n",
        "    # width_shift_range=0.2,\n",
        "    # height_shift_range=0.2,\n",
        "    # zoom_range=0.2,\n",
        "    # horizontal_flip=True,\n",
        "    # vertical_flip=True,\n",
        "    # fill_mode='nearest'\n",
        ")"
      ]
    },
    {
      "cell_type": "code",
      "source": [
        "pip install kaggle"
      ],
      "metadata": {
        "colab": {
          "base_uri": "https://localhost:8080/"
        },
        "id": "hlXSgt04ofVn",
        "outputId": "921499ec-8a90-4700-814a-1afe703dd097"
      },
      "execution_count": null,
      "outputs": [
        {
          "output_type": "stream",
          "name": "stdout",
          "text": [
            "Looking in indexes: https://pypi.org/simple, https://us-python.pkg.dev/colab-wheels/public/simple/\n",
            "Requirement already satisfied: kaggle in /usr/local/lib/python3.10/dist-packages (1.5.13)\n",
            "Requirement already satisfied: six>=1.10 in /usr/local/lib/python3.10/dist-packages (from kaggle) (1.16.0)\n",
            "Requirement already satisfied: certifi in /usr/local/lib/python3.10/dist-packages (from kaggle) (2022.12.7)\n",
            "Requirement already satisfied: python-dateutil in /usr/local/lib/python3.10/dist-packages (from kaggle) (2.8.2)\n",
            "Requirement already satisfied: requests in /usr/local/lib/python3.10/dist-packages (from kaggle) (2.27.1)\n",
            "Requirement already satisfied: tqdm in /usr/local/lib/python3.10/dist-packages (from kaggle) (4.65.0)\n",
            "Requirement already satisfied: python-slugify in /usr/local/lib/python3.10/dist-packages (from kaggle) (8.0.1)\n",
            "Requirement already satisfied: urllib3 in /usr/local/lib/python3.10/dist-packages (from kaggle) (1.26.15)\n",
            "Requirement already satisfied: text-unidecode>=1.3 in /usr/local/lib/python3.10/dist-packages (from python-slugify->kaggle) (1.3)\n",
            "Requirement already satisfied: charset-normalizer~=2.0.0 in /usr/local/lib/python3.10/dist-packages (from requests->kaggle) (2.0.12)\n",
            "Requirement already satisfied: idna<4,>=2.5 in /usr/local/lib/python3.10/dist-packages (from requests->kaggle) (3.4)\n"
          ]
        }
      ]
    },
    {
      "cell_type": "code",
      "source": [
        "!pip install -q kaggle"
      ],
      "metadata": {
        "id": "fMROsFTxojBL"
      },
      "execution_count": null,
      "outputs": []
    },
    {
      "cell_type": "code",
      "source": [
        "from google.colab import files\n",
        "\n",
        "files.upload()"
      ],
      "metadata": {
        "colab": {
          "base_uri": "https://localhost:8080/",
          "height": 90
        },
        "id": "tAgD9pO1olJy",
        "outputId": "7d5d5d09-d70b-4a5e-e56f-33684aa8d3e4"
      },
      "execution_count": null,
      "outputs": [
        {
          "output_type": "display_data",
          "data": {
            "text/plain": [
              "<IPython.core.display.HTML object>"
            ],
            "text/html": [
              "\n",
              "     <input type=\"file\" id=\"files-f140cffb-ebeb-4fb1-be02-5625255abfc5\" name=\"files[]\" multiple disabled\n",
              "        style=\"border:none\" />\n",
              "     <output id=\"result-f140cffb-ebeb-4fb1-be02-5625255abfc5\">\n",
              "      Upload widget is only available when the cell has been executed in the\n",
              "      current browser session. Please rerun this cell to enable.\n",
              "      </output>\n",
              "      <script>// Copyright 2017 Google LLC\n",
              "//\n",
              "// Licensed under the Apache License, Version 2.0 (the \"License\");\n",
              "// you may not use this file except in compliance with the License.\n",
              "// You may obtain a copy of the License at\n",
              "//\n",
              "//      http://www.apache.org/licenses/LICENSE-2.0\n",
              "//\n",
              "// Unless required by applicable law or agreed to in writing, software\n",
              "// distributed under the License is distributed on an \"AS IS\" BASIS,\n",
              "// WITHOUT WARRANTIES OR CONDITIONS OF ANY KIND, either express or implied.\n",
              "// See the License for the specific language governing permissions and\n",
              "// limitations under the License.\n",
              "\n",
              "/**\n",
              " * @fileoverview Helpers for google.colab Python module.\n",
              " */\n",
              "(function(scope) {\n",
              "function span(text, styleAttributes = {}) {\n",
              "  const element = document.createElement('span');\n",
              "  element.textContent = text;\n",
              "  for (const key of Object.keys(styleAttributes)) {\n",
              "    element.style[key] = styleAttributes[key];\n",
              "  }\n",
              "  return element;\n",
              "}\n",
              "\n",
              "// Max number of bytes which will be uploaded at a time.\n",
              "const MAX_PAYLOAD_SIZE = 100 * 1024;\n",
              "\n",
              "function _uploadFiles(inputId, outputId) {\n",
              "  const steps = uploadFilesStep(inputId, outputId);\n",
              "  const outputElement = document.getElementById(outputId);\n",
              "  // Cache steps on the outputElement to make it available for the next call\n",
              "  // to uploadFilesContinue from Python.\n",
              "  outputElement.steps = steps;\n",
              "\n",
              "  return _uploadFilesContinue(outputId);\n",
              "}\n",
              "\n",
              "// This is roughly an async generator (not supported in the browser yet),\n",
              "// where there are multiple asynchronous steps and the Python side is going\n",
              "// to poll for completion of each step.\n",
              "// This uses a Promise to block the python side on completion of each step,\n",
              "// then passes the result of the previous step as the input to the next step.\n",
              "function _uploadFilesContinue(outputId) {\n",
              "  const outputElement = document.getElementById(outputId);\n",
              "  const steps = outputElement.steps;\n",
              "\n",
              "  const next = steps.next(outputElement.lastPromiseValue);\n",
              "  return Promise.resolve(next.value.promise).then((value) => {\n",
              "    // Cache the last promise value to make it available to the next\n",
              "    // step of the generator.\n",
              "    outputElement.lastPromiseValue = value;\n",
              "    return next.value.response;\n",
              "  });\n",
              "}\n",
              "\n",
              "/**\n",
              " * Generator function which is called between each async step of the upload\n",
              " * process.\n",
              " * @param {string} inputId Element ID of the input file picker element.\n",
              " * @param {string} outputId Element ID of the output display.\n",
              " * @return {!Iterable<!Object>} Iterable of next steps.\n",
              " */\n",
              "function* uploadFilesStep(inputId, outputId) {\n",
              "  const inputElement = document.getElementById(inputId);\n",
              "  inputElement.disabled = false;\n",
              "\n",
              "  const outputElement = document.getElementById(outputId);\n",
              "  outputElement.innerHTML = '';\n",
              "\n",
              "  const pickedPromise = new Promise((resolve) => {\n",
              "    inputElement.addEventListener('change', (e) => {\n",
              "      resolve(e.target.files);\n",
              "    });\n",
              "  });\n",
              "\n",
              "  const cancel = document.createElement('button');\n",
              "  inputElement.parentElement.appendChild(cancel);\n",
              "  cancel.textContent = 'Cancel upload';\n",
              "  const cancelPromise = new Promise((resolve) => {\n",
              "    cancel.onclick = () => {\n",
              "      resolve(null);\n",
              "    };\n",
              "  });\n",
              "\n",
              "  // Wait for the user to pick the files.\n",
              "  const files = yield {\n",
              "    promise: Promise.race([pickedPromise, cancelPromise]),\n",
              "    response: {\n",
              "      action: 'starting',\n",
              "    }\n",
              "  };\n",
              "\n",
              "  cancel.remove();\n",
              "\n",
              "  // Disable the input element since further picks are not allowed.\n",
              "  inputElement.disabled = true;\n",
              "\n",
              "  if (!files) {\n",
              "    return {\n",
              "      response: {\n",
              "        action: 'complete',\n",
              "      }\n",
              "    };\n",
              "  }\n",
              "\n",
              "  for (const file of files) {\n",
              "    const li = document.createElement('li');\n",
              "    li.append(span(file.name, {fontWeight: 'bold'}));\n",
              "    li.append(span(\n",
              "        `(${file.type || 'n/a'}) - ${file.size} bytes, ` +\n",
              "        `last modified: ${\n",
              "            file.lastModifiedDate ? file.lastModifiedDate.toLocaleDateString() :\n",
              "                                    'n/a'} - `));\n",
              "    const percent = span('0% done');\n",
              "    li.appendChild(percent);\n",
              "\n",
              "    outputElement.appendChild(li);\n",
              "\n",
              "    const fileDataPromise = new Promise((resolve) => {\n",
              "      const reader = new FileReader();\n",
              "      reader.onload = (e) => {\n",
              "        resolve(e.target.result);\n",
              "      };\n",
              "      reader.readAsArrayBuffer(file);\n",
              "    });\n",
              "    // Wait for the data to be ready.\n",
              "    let fileData = yield {\n",
              "      promise: fileDataPromise,\n",
              "      response: {\n",
              "        action: 'continue',\n",
              "      }\n",
              "    };\n",
              "\n",
              "    // Use a chunked sending to avoid message size limits. See b/62115660.\n",
              "    let position = 0;\n",
              "    do {\n",
              "      const length = Math.min(fileData.byteLength - position, MAX_PAYLOAD_SIZE);\n",
              "      const chunk = new Uint8Array(fileData, position, length);\n",
              "      position += length;\n",
              "\n",
              "      const base64 = btoa(String.fromCharCode.apply(null, chunk));\n",
              "      yield {\n",
              "        response: {\n",
              "          action: 'append',\n",
              "          file: file.name,\n",
              "          data: base64,\n",
              "        },\n",
              "      };\n",
              "\n",
              "      let percentDone = fileData.byteLength === 0 ?\n",
              "          100 :\n",
              "          Math.round((position / fileData.byteLength) * 100);\n",
              "      percent.textContent = `${percentDone}% done`;\n",
              "\n",
              "    } while (position < fileData.byteLength);\n",
              "  }\n",
              "\n",
              "  // All done.\n",
              "  yield {\n",
              "    response: {\n",
              "      action: 'complete',\n",
              "    }\n",
              "  };\n",
              "}\n",
              "\n",
              "scope.google = scope.google || {};\n",
              "scope.google.colab = scope.google.colab || {};\n",
              "scope.google.colab._files = {\n",
              "  _uploadFiles,\n",
              "  _uploadFilesContinue,\n",
              "};\n",
              "})(self);\n",
              "</script> "
            ]
          },
          "metadata": {}
        },
        {
          "output_type": "stream",
          "name": "stdout",
          "text": [
            "Saving kaggle.json to kaggle.json\n"
          ]
        },
        {
          "output_type": "execute_result",
          "data": {
            "text/plain": [
              "{'kaggle.json': b'{\"username\":\"dwipurwanto\",\"key\":\"d0f921ab48b2abde45af149d189ce50e\"}'}"
            ]
          },
          "metadata": {},
          "execution_count": 8
        }
      ]
    },
    {
      "cell_type": "code",
      "source": [
        "!rm -r ~/.kaggle\n",
        "!mkdir ~/.kaggle\n",
        "!mv ./kaggle.json ~/.kaggle/\n",
        "!chmod 600 ~/.kaggle/kaggle.json"
      ],
      "metadata": {
        "colab": {
          "base_uri": "https://localhost:8080/"
        },
        "id": "aWcFSzPwomhw",
        "outputId": "3709bc82-37a7-43e0-81d9-a506f5ad5275"
      },
      "execution_count": null,
      "outputs": [
        {
          "output_type": "stream",
          "name": "stdout",
          "text": [
            "rm: cannot remove '/root/.kaggle': No such file or directory\n"
          ]
        }
      ]
    },
    {
      "cell_type": "code",
      "source": [
        "!kaggle datasets download -d dwipurwanto/plant1 -p \"/tmp/plantdataset.zip\""
      ],
      "metadata": {
        "colab": {
          "base_uri": "https://localhost:8080/"
        },
        "id": "9JCSRUGMozXB",
        "outputId": "bd4119cf-fcb3-4d15-affb-c2f04813b726"
      },
      "execution_count": null,
      "outputs": [
        {
          "output_type": "stream",
          "name": "stdout",
          "text": [
            "Downloading plant1.zip to /tmp/plantdataset.zip\n",
            " 99% 471M/476M [00:05<00:00, 111MB/s] \n",
            "100% 476M/476M [00:06<00:00, 83.1MB/s]\n"
          ]
        }
      ]
    },
    {
      "cell_type": "code",
      "source": [
        "#unzip\n",
        "local_zip = '/tmp/plantdataset.zip/plant1.zip'\n",
        "zip_ref   = zipfile.ZipFile(local_zip, 'r')\n",
        "zip_ref.extractall('/tmp')\n",
        "zip_ref.close()\n",
        "#lalu tentukan train dan valid"
      ],
      "metadata": {
        "id": "gn2kBNmCpNXw"
      },
      "execution_count": null,
      "outputs": []
    },
    {
      "cell_type": "code",
      "execution_count": null,
      "metadata": {
        "id": "qZMezCTOTncf"
      },
      "outputs": [],
      "source": [
        "base_path = \"/tmp/Plant Dataset\"\n",
        "source_path = os.path.join(base_path)\n",
        "train_path = os.path.join(source_path, \"Train\")\n",
        "valid_path = os.path.join(source_path, \"Valid\")"
      ]
    },
    {
      "cell_type": "code",
      "execution_count": null,
      "metadata": {
        "colab": {
          "base_uri": "https://localhost:8080/"
        },
        "id": "by0tW_-2Tncg",
        "outputId": "fa2ffb31-8020-413b-c465-03ed28c660a7"
      },
      "outputs": [
        {
          "output_type": "stream",
          "name": "stdout",
          "text": [
            "Found 9300 images belonging to 31 classes.\n",
            "Found 1550 images belonging to 31 classes.\n"
          ]
        }
      ],
      "source": [
        "# Create train and validation data generators\n",
        "train_generator = train_datagen.flow_from_directory(\n",
        "    train_path,\n",
        "    target_size=image_size,\n",
        "    batch_size=batch_size,\n",
        "    class_mode='categorical',\n",
        "    shuffle = True\n",
        ")\n",
        "\n",
        "validation_generator = valid_datagen.flow_from_directory(\n",
        "    valid_path,\n",
        "    target_size=image_size,\n",
        "    batch_size=batch_size,\n",
        "    class_mode='categorical',\n",
        "    shuffle = False\n",
        ")"
      ]
    },
    {
      "cell_type": "code",
      "execution_count": null,
      "metadata": {
        "id": "Ny0DLJb9Tnch"
      },
      "outputs": [],
      "source": [
        "for layer in base_model.layers:\n",
        "    layer.trainable = False\n",
        "\n",
        "with tf.device(\"GPU\"):\n",
        "    model = Sequential()\n",
        "    model.add(base_model)\n",
        "    model.add(Dropout(0.2))\n",
        "    model.add(GlobalAveragePooling2D())\n",
        "    model.add(Dense(300, activation='relu', kernel_regularizer=regularizers.l2(0.02)))\n",
        "    model.add(Dense(150, activation='relu'))\n",
        "    model.add(Dense(31, activation='softmax'))\n",
        "\n",
        "# Compile the model\n",
        "# learning_rate = 0.001\n",
        "optimizer = Adam(learning_rate=0.001, amsgrad=True)\n",
        "model.compile(optimizer=optimizer, loss='categorical_crossentropy', metrics=['accuracy'])\n",
        "\n",
        "# Print the model summary\n",
        "# model.summary()"
      ]
    },
    {
      "cell_type": "code",
      "execution_count": null,
      "metadata": {
        "id": "aNZhsqsRTnci"
      },
      "outputs": [],
      "source": [
        "checkpoint_callback = ModelCheckpoint('chili_model_weights.h5', save_best_only=True, save_weights_only=True)\n",
        "early_stopping_callback = EarlyStopping(patience=5, monitor='val_loss', restore_best_weights=True)\n",
        "reduce_lr_callback = ReduceLROnPlateau(factor=0.1, patience=3, monitor='val_loss')"
      ]
    },
    {
      "cell_type": "code",
      "source": [
        "epoch = 50\n",
        "with tf.device('GPU'):\n",
        "    history = model.fit(\n",
        "        train_generator,\n",
        "        steps_per_epoch=len(train_generator),\n",
        "        epochs=epoch,\n",
        "        validation_data=validation_generator,\n",
        "        validation_steps=len(validation_generator),\n",
        "        callbacks=[checkpoint_callback, early_stopping_callback, reduce_lr_callback]\n",
        "    )"
      ],
      "metadata": {
        "colab": {
          "base_uri": "https://localhost:8080/"
        },
        "id": "kQim_xkQrXJv",
        "outputId": "07582ff7-17eb-4c4d-f2db-66ed21f670b2"
      },
      "execution_count": null,
      "outputs": [
        {
          "output_type": "stream",
          "name": "stdout",
          "text": [
            "Epoch 1/50\n",
            "582/582 [==============================] - 168s 267ms/step - loss: 3.1125 - accuracy: 0.5910 - val_loss: 1.6868 - val_accuracy: 0.6645 - lr: 0.0010\n",
            "Epoch 2/50\n",
            "582/582 [==============================] - 150s 257ms/step - loss: 1.6683 - accuracy: 0.6628 - val_loss: 1.7683 - val_accuracy: 0.6303 - lr: 0.0010\n",
            "Epoch 3/50\n",
            "582/582 [==============================] - 152s 261ms/step - loss: 1.5884 - accuracy: 0.6771 - val_loss: 1.6074 - val_accuracy: 0.6568 - lr: 0.0010\n",
            "Epoch 4/50\n",
            "582/582 [==============================] - 149s 257ms/step - loss: 1.5274 - accuracy: 0.6880 - val_loss: 1.5187 - val_accuracy: 0.6897 - lr: 0.0010\n",
            "Epoch 5/50\n",
            "582/582 [==============================] - 149s 255ms/step - loss: 1.4874 - accuracy: 0.6835 - val_loss: 1.5661 - val_accuracy: 0.6652 - lr: 0.0010\n",
            "Epoch 6/50\n",
            "582/582 [==============================] - 149s 256ms/step - loss: 1.4429 - accuracy: 0.6996 - val_loss: 1.5693 - val_accuracy: 0.6690 - lr: 0.0010\n",
            "Epoch 7/50\n",
            "582/582 [==============================] - 149s 255ms/step - loss: 1.3973 - accuracy: 0.7042 - val_loss: 1.3934 - val_accuracy: 0.7052 - lr: 0.0010\n",
            "Epoch 8/50\n",
            "582/582 [==============================] - 148s 253ms/step - loss: 1.3787 - accuracy: 0.7083 - val_loss: 1.4379 - val_accuracy: 0.6955 - lr: 0.0010\n",
            "Epoch 9/50\n",
            "582/582 [==============================] - 146s 251ms/step - loss: 1.3619 - accuracy: 0.7129 - val_loss: 1.4942 - val_accuracy: 0.6774 - lr: 0.0010\n",
            "Epoch 10/50\n",
            "582/582 [==============================] - 149s 255ms/step - loss: 1.3287 - accuracy: 0.7111 - val_loss: 1.3840 - val_accuracy: 0.7187 - lr: 0.0010\n",
            "Epoch 11/50\n",
            "582/582 [==============================] - 146s 251ms/step - loss: 1.2886 - accuracy: 0.7253 - val_loss: 1.3475 - val_accuracy: 0.7110 - lr: 0.0010\n",
            "Epoch 12/50\n",
            "582/582 [==============================] - 146s 251ms/step - loss: 1.3086 - accuracy: 0.7195 - val_loss: 1.3754 - val_accuracy: 0.7084 - lr: 0.0010\n",
            "Epoch 13/50\n",
            "582/582 [==============================] - 147s 252ms/step - loss: 1.2618 - accuracy: 0.7316 - val_loss: 1.2432 - val_accuracy: 0.7348 - lr: 0.0010\n",
            "Epoch 14/50\n",
            "582/582 [==============================] - 147s 253ms/step - loss: 1.2632 - accuracy: 0.7239 - val_loss: 1.3210 - val_accuracy: 0.7110 - lr: 0.0010\n",
            "Epoch 15/50\n",
            "582/582 [==============================] - 147s 253ms/step - loss: 1.2510 - accuracy: 0.7296 - val_loss: 1.2660 - val_accuracy: 0.7310 - lr: 0.0010\n",
            "Epoch 16/50\n",
            "582/582 [==============================] - 148s 254ms/step - loss: 1.2472 - accuracy: 0.7274 - val_loss: 1.2794 - val_accuracy: 0.7265 - lr: 0.0010\n",
            "Epoch 17/50\n",
            "582/582 [==============================] - 147s 252ms/step - loss: 1.0021 - accuracy: 0.7920 - val_loss: 1.1183 - val_accuracy: 0.7658 - lr: 1.0000e-04\n",
            "Epoch 18/50\n",
            "582/582 [==============================] - 146s 250ms/step - loss: 0.9240 - accuracy: 0.7988 - val_loss: 1.0551 - val_accuracy: 0.7639 - lr: 1.0000e-04\n",
            "Epoch 19/50\n",
            "582/582 [==============================] - 146s 251ms/step - loss: 0.8530 - accuracy: 0.8128 - val_loss: 1.0021 - val_accuracy: 0.7697 - lr: 1.0000e-04\n",
            "Epoch 20/50\n",
            "582/582 [==============================] - 147s 253ms/step - loss: 0.8133 - accuracy: 0.8195 - val_loss: 0.9824 - val_accuracy: 0.7710 - lr: 1.0000e-04\n",
            "Epoch 21/50\n",
            "582/582 [==============================] - 148s 255ms/step - loss: 0.7968 - accuracy: 0.8153 - val_loss: 0.9669 - val_accuracy: 0.7690 - lr: 1.0000e-04\n",
            "Epoch 22/50\n",
            "582/582 [==============================] - 147s 253ms/step - loss: 0.7745 - accuracy: 0.8214 - val_loss: 0.9444 - val_accuracy: 0.7697 - lr: 1.0000e-04\n",
            "Epoch 23/50\n",
            "582/582 [==============================] - 147s 252ms/step - loss: 0.7611 - accuracy: 0.8225 - val_loss: 0.9217 - val_accuracy: 0.7748 - lr: 1.0000e-04\n",
            "Epoch 24/50\n",
            "582/582 [==============================] - 146s 251ms/step - loss: 0.7516 - accuracy: 0.8199 - val_loss: 0.9259 - val_accuracy: 0.7690 - lr: 1.0000e-04\n",
            "Epoch 25/50\n",
            "582/582 [==============================] - 147s 253ms/step - loss: 0.7480 - accuracy: 0.8206 - val_loss: 0.9314 - val_accuracy: 0.7729 - lr: 1.0000e-04\n",
            "Epoch 26/50\n",
            "582/582 [==============================] - 146s 251ms/step - loss: 0.7303 - accuracy: 0.8213 - val_loss: 0.9199 - val_accuracy: 0.7716 - lr: 1.0000e-04\n",
            "Epoch 27/50\n",
            "582/582 [==============================] - 146s 251ms/step - loss: 0.7332 - accuracy: 0.8244 - val_loss: 0.9303 - val_accuracy: 0.7600 - lr: 1.0000e-04\n",
            "Epoch 28/50\n",
            "582/582 [==============================] - 158s 272ms/step - loss: 0.7179 - accuracy: 0.8266 - val_loss: 0.9201 - val_accuracy: 0.7839 - lr: 1.0000e-04\n",
            "Epoch 29/50\n",
            "582/582 [==============================] - 147s 253ms/step - loss: 0.7217 - accuracy: 0.8230 - val_loss: 0.8952 - val_accuracy: 0.7723 - lr: 1.0000e-04\n",
            "Epoch 30/50\n",
            "582/582 [==============================] - 147s 253ms/step - loss: 0.7025 - accuracy: 0.8284 - val_loss: 0.8943 - val_accuracy: 0.7781 - lr: 1.0000e-04\n",
            "Epoch 31/50\n",
            "582/582 [==============================] - 146s 251ms/step - loss: 0.7060 - accuracy: 0.8274 - val_loss: 0.8827 - val_accuracy: 0.7839 - lr: 1.0000e-04\n",
            "Epoch 32/50\n",
            "582/582 [==============================] - 148s 254ms/step - loss: 0.7112 - accuracy: 0.8254 - val_loss: 0.8968 - val_accuracy: 0.7716 - lr: 1.0000e-04\n",
            "Epoch 33/50\n",
            "582/582 [==============================] - 146s 252ms/step - loss: 0.6938 - accuracy: 0.8288 - val_loss: 0.8819 - val_accuracy: 0.7806 - lr: 1.0000e-04\n",
            "Epoch 34/50\n",
            "582/582 [==============================] - 147s 253ms/step - loss: 0.6940 - accuracy: 0.8251 - val_loss: 0.8721 - val_accuracy: 0.7890 - lr: 1.0000e-04\n",
            "Epoch 35/50\n",
            "582/582 [==============================] - 146s 251ms/step - loss: 0.6920 - accuracy: 0.8314 - val_loss: 0.8819 - val_accuracy: 0.7774 - lr: 1.0000e-04\n",
            "Epoch 36/50\n",
            "582/582 [==============================] - 149s 256ms/step - loss: 0.6895 - accuracy: 0.8287 - val_loss: 0.8642 - val_accuracy: 0.7839 - lr: 1.0000e-04\n",
            "Epoch 37/50\n",
            "582/582 [==============================] - 147s 253ms/step - loss: 0.6774 - accuracy: 0.8305 - val_loss: 0.8579 - val_accuracy: 0.7832 - lr: 1.0000e-04\n",
            "Epoch 38/50\n",
            "582/582 [==============================] - 147s 252ms/step - loss: 0.6667 - accuracy: 0.8345 - val_loss: 0.8860 - val_accuracy: 0.7761 - lr: 1.0000e-04\n",
            "Epoch 39/50\n",
            "582/582 [==============================] - 146s 251ms/step - loss: 0.6733 - accuracy: 0.8344 - val_loss: 0.8895 - val_accuracy: 0.7768 - lr: 1.0000e-04\n",
            "Epoch 40/50\n",
            "582/582 [==============================] - 147s 253ms/step - loss: 0.6768 - accuracy: 0.8363 - val_loss: 0.8414 - val_accuracy: 0.7903 - lr: 1.0000e-04\n",
            "Epoch 41/50\n",
            "582/582 [==============================] - 147s 252ms/step - loss: 0.6754 - accuracy: 0.8338 - val_loss: 0.8697 - val_accuracy: 0.7787 - lr: 1.0000e-04\n",
            "Epoch 42/50\n",
            "582/582 [==============================] - 148s 253ms/step - loss: 0.6645 - accuracy: 0.8371 - val_loss: 0.8413 - val_accuracy: 0.7858 - lr: 1.0000e-04\n",
            "Epoch 43/50\n",
            "582/582 [==============================] - 146s 252ms/step - loss: 0.6612 - accuracy: 0.8397 - val_loss: 0.8611 - val_accuracy: 0.7768 - lr: 1.0000e-04\n",
            "Epoch 44/50\n",
            "582/582 [==============================] - 149s 255ms/step - loss: 0.6259 - accuracy: 0.8500 - val_loss: 0.8227 - val_accuracy: 0.7910 - lr: 1.0000e-05\n",
            "Epoch 45/50\n",
            "582/582 [==============================] - 146s 250ms/step - loss: 0.6187 - accuracy: 0.8525 - val_loss: 0.8269 - val_accuracy: 0.7903 - lr: 1.0000e-05\n",
            "Epoch 46/50\n",
            "582/582 [==============================] - 149s 256ms/step - loss: 0.6232 - accuracy: 0.8503 - val_loss: 0.8203 - val_accuracy: 0.7903 - lr: 1.0000e-05\n",
            "Epoch 47/50\n",
            "582/582 [==============================] - 147s 252ms/step - loss: 0.6187 - accuracy: 0.8489 - val_loss: 0.8187 - val_accuracy: 0.7903 - lr: 1.0000e-05\n",
            "Epoch 48/50\n",
            "582/582 [==============================] - 147s 252ms/step - loss: 0.6142 - accuracy: 0.8551 - val_loss: 0.8234 - val_accuracy: 0.7884 - lr: 1.0000e-05\n",
            "Epoch 49/50\n",
            "582/582 [==============================] - 146s 251ms/step - loss: 0.6035 - accuracy: 0.8559 - val_loss: 0.8198 - val_accuracy: 0.7897 - lr: 1.0000e-05\n",
            "Epoch 50/50\n",
            "582/582 [==============================] - 146s 252ms/step - loss: 0.6131 - accuracy: 0.8528 - val_loss: 0.8142 - val_accuracy: 0.7877 - lr: 1.0000e-05\n"
          ]
        }
      ]
    },
    {
      "cell_type": "code",
      "execution_count": null,
      "metadata": {
        "colab": {
          "base_uri": "https://localhost:8080/",
          "height": 307
        },
        "id": "Y7p7ttLBTnci",
        "outputId": "72a36e64-1005-441a-8f8b-69897aeb87d7"
      },
      "outputs": [
        {
          "output_type": "display_data",
          "data": {
            "text/plain": [
              "<Figure size 900x300 with 3 Axes>"
            ],
            "image/png": "[encoded data removed]"
          },
          "metadata": {}
        }
      ],
      "source": [
        "import matplotlib.pyplot as plt\n",
        "\n",
        "# Plot the training and validation loss\n",
        "fig, axes = plt.subplots(1, 3, figsize=(9, 3))\n",
        "\n",
        "axes[0].plot(history.history['loss'])\n",
        "axes[0].plot(history.history['val_loss'])\n",
        "axes[0].set_title('Model Loss')\n",
        "axes[0].set_xlabel('Epoch')\n",
        "axes[0].set_ylabel('Loss')\n",
        "axes[0].legend(['Train', 'Validation'], loc='upper right')\n",
        "\n",
        "axes[1].plot(history.history['accuracy'])\n",
        "axes[1].plot(history.history['val_accuracy'])\n",
        "axes[1].set_title('Model Accuracy')\n",
        "axes[1].set_xlabel('Epoch')\n",
        "axes[1].set_ylabel('Accuracy')\n",
        "axes[1].legend(['Train', 'Validation'], loc='lower right')\n",
        "\n",
        "axes[2].plot(history.history['lr'])\n",
        "axes[2].set_title('Learning Rate')\n",
        "axes[2].set_xlabel('Epoch')\n",
        "axes[2].set_ylabel('Learning Rate')\n",
        "\n",
        "plt.tight_layout()\n",
        "plt.show()"
      ]
    },
    {
      "cell_type": "code",
      "execution_count": null,
      "metadata": {
        "colab": {
          "base_uri": "https://localhost:8080/"
        },
        "id": "8RLJJ7UvTncj",
        "outputId": "228d16e3-040a-48e2-df08-cad7e2d55be8"
      },
      "outputs": [
        {
          "output_type": "stream",
          "name": "stderr",
          "text": [
            "WARNING:absl:Function `_wrapped_model` contains input name(s) mobilenetv2_1.00_224_input with unsupported characters which will be renamed to mobilenetv2_1_00_224_input in the SavedModel.\n",
            "WARNING:absl:`mobilenetv2_1.00_224_input` is not a valid tf.function parameter name. Sanitizing to `mobilenetv2_1_00_224_input`.\n",
            "WARNING:absl:`mobilenetv2_1.00_224_input` is not a valid tf.function parameter name. Sanitizing to `mobilenetv2_1_00_224_input`.\n",
            "WARNING:absl:`mobilenetv2_1.00_224_input` is not a valid tf.function parameter name. Sanitizing to `mobilenetv2_1_00_224_input`.\n",
            "WARNING:absl:Found untraced functions such as _jit_compiled_convolution_op, _jit_compiled_convolution_op, _jit_compiled_convolution_op, _jit_compiled_convolution_op, _jit_compiled_convolution_op while saving (showing 5 of 52). These functions will not be directly callable after loading.\n"
          ]
        }
      ],
      "source": [
        "export_dir = 'saved_model/plant/3'\n",
        "tf.saved_model.save(model, export_dir)"
      ]
    },
    {
      "cell_type": "code",
      "execution_count": null,
      "metadata": {
        "id": "bQ9w7jEtTnck"
      },
      "outputs": [],
      "source": [
        "mode = \"Speed\"\n",
        "\n",
        "if mode == 'Storage':\n",
        "    optimization = tf.lite.Optimize.OPTIMIZE_FOR_SIZE\n",
        "elif mode == 'Speed':\n",
        "    optimization = tf.lite.Optimize.OPTIMIZE_FOR_LATENCY\n",
        "else:\n",
        "    optimization = tf.lite.Optimize.DEFAULT\n",
        "\n",
        "converter = tf.lite.TFLiteConverter.from_saved_model(export_dir)\n",
        "converter.optimizations = [tf.lite.Optimize.DEFAULT]\n",
        "# Invoke the converter to finally generate the TFLite model\n",
        "tflite_model = converter.convert()"
      ]
    },
    {
      "cell_type": "markdown",
      "source": [
        "# New Section"
      ],
      "metadata": {
        "id": "pi_iMC4zoMh3"
      }
    },
    {
      "cell_type": "code",
      "execution_count": null,
      "metadata": {
        "colab": {
          "base_uri": "https://localhost:8080/"
        },
        "id": "WIB9rDfKTncl",
        "outputId": "46696e3f-7f9b-4570-890b-7760d5e7ae48"
      },
      "outputs": [
        {
          "output_type": "execute_result",
          "data": {
            "text/plain": [
              "2944736"
            ]
          },
          "metadata": {},
          "execution_count": 21
        }
      ],
      "source": [
        "import pathlib\n",
        "tflite_model_file = pathlib.Path('/tmp/plant.tflite')\n",
        "tflite_model_file.write_bytes(tflite_model)"
      ]
    },
    {
      "cell_type": "code",
      "execution_count": null,
      "metadata": {
        "id": "JGLY0l_NTncl"
      },
      "outputs": [],
      "source": []
    }
  ],
  "metadata": {
    "kernelspec": {
      "display_name": "capstone",
      "language": "python",
      "name": "capstone"
    },
    "language_info": {
      "codemirror_mode": {
        "name": "ipython",
        "version": 3
      },
      "file_extension": ".py",
      "mimetype": "text/x-python",
      "name": "python",
      "nbconvert_exporter": "python",
      "pygments_lexer": "ipython3",
      "version": "3.11.1"
    },
    "orig_nbformat": 4,
    "colab": {
      "provenance": [],
      "gpuType": "T4"
    },
    "accelerator": "GPU"
  },
  "nbformat": 4,
  "nbformat_minor": 0
}